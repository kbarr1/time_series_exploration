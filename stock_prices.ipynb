{
 "cells": [
  {
   "cell_type": "markdown",
   "metadata": {},
   "source": [
    "Use historical data for the  New Germany Fund (GF) to predict closing price for new five days\n"
   ]
  },
  {
   "cell_type": "code",
   "execution_count": 2,
   "metadata": {},
   "outputs": [],
   "source": [
    "import pandas as pd\n",
    "import numpy as np\n",
    "import matplotlib.pyplot as plt\n",
    "import seaborn as sns"
   ]
  },
  {
   "cell_type": "code",
   "execution_count": 22,
   "metadata": {},
   "outputs": [],
   "source": [
    "data_path = 'input/stock_prices_sample.csv'\n",
    "df = pd.read_csv(data_path, index_col = 'DATE', parse_dates = ['DATE'])"
   ]
  },
  {
   "cell_type": "code",
   "execution_count": 23,
   "metadata": {},
   "outputs": [
    {
     "data": {
      "text/html": [
       "<div>\n",
       "<style scoped>\n",
       "    .dataframe tbody tr th:only-of-type {\n",
       "        vertical-align: middle;\n",
       "    }\n",
       "\n",
       "    .dataframe tbody tr th {\n",
       "        vertical-align: top;\n",
       "    }\n",
       "\n",
       "    .dataframe thead th {\n",
       "        text-align: right;\n",
       "    }\n",
       "</style>\n",
       "<table border=\"1\" class=\"dataframe\">\n",
       "  <thead>\n",
       "    <tr style=\"text-align: right;\">\n",
       "      <th></th>\n",
       "      <th>TICKER</th>\n",
       "      <th>FIGI</th>\n",
       "      <th>TYPE</th>\n",
       "      <th>FREQUENCY</th>\n",
       "      <th>OPEN</th>\n",
       "      <th>HIGH</th>\n",
       "      <th>LOW</th>\n",
       "      <th>CLOSE</th>\n",
       "      <th>VOLUME</th>\n",
       "      <th>ADJ_OPEN</th>\n",
       "      <th>ADJ_HIGH</th>\n",
       "      <th>ADJ_LOW</th>\n",
       "      <th>ADJ_CLOSE</th>\n",
       "      <th>ADJ_VOLUME</th>\n",
       "      <th>ADJ_FACTOR</th>\n",
       "      <th>EX_DIVIDEND</th>\n",
       "      <th>SPLIT_RATIO</th>\n",
       "    </tr>\n",
       "    <tr>\n",
       "      <th>DATE</th>\n",
       "      <th></th>\n",
       "      <th></th>\n",
       "      <th></th>\n",
       "      <th></th>\n",
       "      <th></th>\n",
       "      <th></th>\n",
       "      <th></th>\n",
       "      <th></th>\n",
       "      <th></th>\n",
       "      <th></th>\n",
       "      <th></th>\n",
       "      <th></th>\n",
       "      <th></th>\n",
       "      <th></th>\n",
       "      <th></th>\n",
       "      <th></th>\n",
       "      <th></th>\n",
       "    </tr>\n",
       "  </thead>\n",
       "  <tbody>\n",
       "    <tr>\n",
       "      <th>2013-01-04</th>\n",
       "      <td>GEF</td>\n",
       "      <td>BBG000BLFQH8</td>\n",
       "      <td>EOD</td>\n",
       "      <td>daily</td>\n",
       "      <td>46.31</td>\n",
       "      <td>47.6198</td>\n",
       "      <td>46.23</td>\n",
       "      <td>47.37</td>\n",
       "      <td>248000.0</td>\n",
       "      <td>38.517220</td>\n",
       "      <td>39.606614</td>\n",
       "      <td>38.450681</td>\n",
       "      <td>39.398849</td>\n",
       "      <td>248000.0</td>\n",
       "      <td>NaN</td>\n",
       "      <td>0.0</td>\n",
       "      <td>1.0</td>\n",
       "    </tr>\n",
       "    <tr>\n",
       "      <th>2013-01-03</th>\n",
       "      <td>GEF</td>\n",
       "      <td>BBG000BLFQH8</td>\n",
       "      <td>EOD</td>\n",
       "      <td>daily</td>\n",
       "      <td>46.43</td>\n",
       "      <td>46.5200</td>\n",
       "      <td>46.14</td>\n",
       "      <td>46.48</td>\n",
       "      <td>131300.0</td>\n",
       "      <td>38.617027</td>\n",
       "      <td>38.691882</td>\n",
       "      <td>38.375826</td>\n",
       "      <td>38.658613</td>\n",
       "      <td>131300.0</td>\n",
       "      <td>NaN</td>\n",
       "      <td>0.0</td>\n",
       "      <td>1.0</td>\n",
       "    </tr>\n",
       "    <tr>\n",
       "      <th>2013-01-02</th>\n",
       "      <td>GEF</td>\n",
       "      <td>BBG000BLFQH8</td>\n",
       "      <td>EOD</td>\n",
       "      <td>daily</td>\n",
       "      <td>45.38</td>\n",
       "      <td>46.5400</td>\n",
       "      <td>45.16</td>\n",
       "      <td>46.41</td>\n",
       "      <td>184900.0</td>\n",
       "      <td>37.743715</td>\n",
       "      <td>38.708516</td>\n",
       "      <td>37.560735</td>\n",
       "      <td>38.600392</td>\n",
       "      <td>184900.0</td>\n",
       "      <td>NaN</td>\n",
       "      <td>0.0</td>\n",
       "      <td>1.0</td>\n",
       "    </tr>\n",
       "    <tr>\n",
       "      <th>2018-06-05</th>\n",
       "      <td>GF</td>\n",
       "      <td>BBG000C3C6S2</td>\n",
       "      <td>Intraday</td>\n",
       "      <td>daily</td>\n",
       "      <td>18.86</td>\n",
       "      <td>18.9100</td>\n",
       "      <td>18.87</td>\n",
       "      <td>18.87</td>\n",
       "      <td>10000.0</td>\n",
       "      <td>18.860000</td>\n",
       "      <td>18.910000</td>\n",
       "      <td>18.870000</td>\n",
       "      <td>18.870000</td>\n",
       "      <td>10000.0</td>\n",
       "      <td>NaN</td>\n",
       "      <td>0.0</td>\n",
       "      <td>1.0</td>\n",
       "    </tr>\n",
       "    <tr>\n",
       "      <th>2018-06-04</th>\n",
       "      <td>GF</td>\n",
       "      <td>BBG000C3C6S2</td>\n",
       "      <td>EOD</td>\n",
       "      <td>daily</td>\n",
       "      <td>18.86</td>\n",
       "      <td>18.8900</td>\n",
       "      <td>18.79</td>\n",
       "      <td>18.81</td>\n",
       "      <td>39095.0</td>\n",
       "      <td>18.860000</td>\n",
       "      <td>18.890000</td>\n",
       "      <td>18.790000</td>\n",
       "      <td>18.810000</td>\n",
       "      <td>39095.0</td>\n",
       "      <td>NaN</td>\n",
       "      <td>0.0</td>\n",
       "      <td>1.0</td>\n",
       "    </tr>\n",
       "  </tbody>\n",
       "</table>\n",
       "</div>"
      ],
      "text/plain": [
       "           TICKER          FIGI      TYPE FREQUENCY   OPEN     HIGH    LOW  \\\n",
       "DATE                                                                         \n",
       "2013-01-04    GEF  BBG000BLFQH8       EOD     daily  46.31  47.6198  46.23   \n",
       "2013-01-03    GEF  BBG000BLFQH8       EOD     daily  46.43  46.5200  46.14   \n",
       "2013-01-02    GEF  BBG000BLFQH8       EOD     daily  45.38  46.5400  45.16   \n",
       "2018-06-05     GF  BBG000C3C6S2  Intraday     daily  18.86  18.9100  18.87   \n",
       "2018-06-04     GF  BBG000C3C6S2       EOD     daily  18.86  18.8900  18.79   \n",
       "\n",
       "            CLOSE    VOLUME   ADJ_OPEN   ADJ_HIGH    ADJ_LOW  ADJ_CLOSE  \\\n",
       "DATE                                                                      \n",
       "2013-01-04  47.37  248000.0  38.517220  39.606614  38.450681  39.398849   \n",
       "2013-01-03  46.48  131300.0  38.617027  38.691882  38.375826  38.658613   \n",
       "2013-01-02  46.41  184900.0  37.743715  38.708516  37.560735  38.600392   \n",
       "2018-06-05  18.87   10000.0  18.860000  18.910000  18.870000  18.870000   \n",
       "2018-06-04  18.81   39095.0  18.860000  18.890000  18.790000  18.810000   \n",
       "\n",
       "            ADJ_VOLUME  ADJ_FACTOR  EX_DIVIDEND  SPLIT_RATIO  \n",
       "DATE                                                          \n",
       "2013-01-04    248000.0         NaN          0.0          1.0  \n",
       "2013-01-03    131300.0         NaN          0.0          1.0  \n",
       "2013-01-02    184900.0         NaN          0.0          1.0  \n",
       "2018-06-05     10000.0         NaN          0.0          1.0  \n",
       "2018-06-04     39095.0         NaN          0.0          1.0  "
      ]
     },
     "execution_count": 23,
     "metadata": {},
     "output_type": "execute_result"
    }
   ],
   "source": [
    "df.head()"
   ]
  },
  {
   "cell_type": "code",
   "execution_count": 24,
   "metadata": {},
   "outputs": [
    {
     "data": {
      "text/plain": [
       "TICKER          object\n",
       "FIGI            object\n",
       "TYPE            object\n",
       "FREQUENCY       object\n",
       "OPEN           float64\n",
       "HIGH           float64\n",
       "LOW            float64\n",
       "CLOSE          float64\n",
       "VOLUME         float64\n",
       "ADJ_OPEN       float64\n",
       "ADJ_HIGH       float64\n",
       "ADJ_LOW        float64\n",
       "ADJ_CLOSE      float64\n",
       "ADJ_VOLUME     float64\n",
       "ADJ_FACTOR     float64\n",
       "EX_DIVIDEND    float64\n",
       "SPLIT_RATIO    float64\n",
       "dtype: object"
      ]
     },
     "execution_count": 24,
     "metadata": {},
     "output_type": "execute_result"
    }
   ],
   "source": [
    "df.dtypes"
   ]
  },
  {
   "cell_type": "code",
   "execution_count": 25,
   "metadata": {},
   "outputs": [
    {
     "data": {
      "text/plain": [
       "DatetimeIndex(['2013-01-04', '2013-01-03', '2013-01-02', '2018-06-05',\n",
       "               '2018-06-04', '2018-06-01', '2018-05-31', '2018-05-30',\n",
       "               '2018-05-29', '2018-05-25',\n",
       "               ...\n",
       "               '2014-07-07', '2014-07-03', '2014-07-02', '2014-07-01',\n",
       "               '2014-06-30', '2014-06-27', '2014-06-26', '2014-06-25',\n",
       "               '2014-06-24', '2014-06-23'],\n",
       "              dtype='datetime64[ns]', name='DATE', length=999, freq=None)"
      ]
     },
     "execution_count": 25,
     "metadata": {},
     "output_type": "execute_result"
    }
   ],
   "source": [
    "df.index\n"
   ]
  },
  {
   "cell_type": "code",
   "execution_count": 26,
   "metadata": {},
   "outputs": [],
   "source": [
    "def mape(y_pred, y_test):\n",
    "    mape = 100*np.mean(np.abs((y_test-y_pred)/y_test))"
   ]
  },
  {
   "cell_type": "markdown",
   "metadata": {},
   "source": [
    "Investigate types of funds - TICKER"
   ]
  },
  {
   "cell_type": "code",
   "execution_count": 29,
   "metadata": {},
   "outputs": [
    {
     "data": {
      "text/plain": [
       "array(['GEF', 'GF'], dtype=object)"
      ]
     },
     "execution_count": 29,
     "metadata": {},
     "output_type": "execute_result"
    }
   ],
   "source": [
    "df['TICKER'].unique()"
   ]
  },
  {
   "cell_type": "code",
   "execution_count": 30,
   "metadata": {},
   "outputs": [],
   "source": [
    "df = df[df['TICKER']=='GF'] # only use ticker 'GF'"
   ]
  },
  {
   "cell_type": "markdown",
   "metadata": {},
   "source": [
    "Investigate types of types - TYPE"
   ]
  },
  {
   "cell_type": "code",
   "execution_count": 31,
   "metadata": {},
   "outputs": [
    {
     "data": {
      "text/plain": [
       "array(['Intraday', 'EOD'], dtype=object)"
      ]
     },
     "execution_count": 31,
     "metadata": {},
     "output_type": "execute_result"
    }
   ],
   "source": [
    "df['TYPE'].unique()"
   ]
  },
  {
   "cell_type": "code",
   "execution_count": 32,
   "metadata": {},
   "outputs": [],
   "source": [
    "df = df[df['TYPE']=='EOD'] # only look at 'EOD' - closing prices"
   ]
  },
  {
   "cell_type": "code",
   "execution_count": 33,
   "metadata": {},
   "outputs": [
    {
     "data": {
      "text/html": [
       "<div>\n",
       "<style scoped>\n",
       "    .dataframe tbody tr th:only-of-type {\n",
       "        vertical-align: middle;\n",
       "    }\n",
       "\n",
       "    .dataframe tbody tr th {\n",
       "        vertical-align: top;\n",
       "    }\n",
       "\n",
       "    .dataframe thead th {\n",
       "        text-align: right;\n",
       "    }\n",
       "</style>\n",
       "<table border=\"1\" class=\"dataframe\">\n",
       "  <thead>\n",
       "    <tr style=\"text-align: right;\">\n",
       "      <th></th>\n",
       "      <th>TICKER</th>\n",
       "      <th>OPEN</th>\n",
       "      <th>HIGH</th>\n",
       "      <th>LOW</th>\n",
       "      <th>CLOSE</th>\n",
       "    </tr>\n",
       "    <tr>\n",
       "      <th>DATE</th>\n",
       "      <th></th>\n",
       "      <th></th>\n",
       "      <th></th>\n",
       "      <th></th>\n",
       "      <th></th>\n",
       "    </tr>\n",
       "  </thead>\n",
       "  <tbody>\n",
       "    <tr>\n",
       "      <th>2018-06-04</th>\n",
       "      <td>GF</td>\n",
       "      <td>18.86</td>\n",
       "      <td>18.890</td>\n",
       "      <td>18.7900</td>\n",
       "      <td>18.8100</td>\n",
       "    </tr>\n",
       "    <tr>\n",
       "      <th>2018-06-01</th>\n",
       "      <td>GF</td>\n",
       "      <td>18.58</td>\n",
       "      <td>18.760</td>\n",
       "      <td>18.5800</td>\n",
       "      <td>18.7400</td>\n",
       "    </tr>\n",
       "    <tr>\n",
       "      <th>2018-05-31</th>\n",
       "      <td>GF</td>\n",
       "      <td>18.52</td>\n",
       "      <td>18.520</td>\n",
       "      <td>18.3012</td>\n",
       "      <td>18.4900</td>\n",
       "    </tr>\n",
       "    <tr>\n",
       "      <th>2018-05-30</th>\n",
       "      <td>GF</td>\n",
       "      <td>18.47</td>\n",
       "      <td>18.678</td>\n",
       "      <td>18.4700</td>\n",
       "      <td>18.6500</td>\n",
       "    </tr>\n",
       "    <tr>\n",
       "      <th>2018-05-29</th>\n",
       "      <td>GF</td>\n",
       "      <td>18.51</td>\n",
       "      <td>18.510</td>\n",
       "      <td>18.1500</td>\n",
       "      <td>18.2562</td>\n",
       "    </tr>\n",
       "  </tbody>\n",
       "</table>\n",
       "</div>"
      ],
      "text/plain": [
       "           TICKER   OPEN    HIGH      LOW    CLOSE\n",
       "DATE                                              \n",
       "2018-06-04     GF  18.86  18.890  18.7900  18.8100\n",
       "2018-06-01     GF  18.58  18.760  18.5800  18.7400\n",
       "2018-05-31     GF  18.52  18.520  18.3012  18.4900\n",
       "2018-05-30     GF  18.47  18.678  18.4700  18.6500\n",
       "2018-05-29     GF  18.51  18.510  18.1500  18.2562"
      ]
     },
     "execution_count": 33,
     "metadata": {},
     "output_type": "execute_result"
    }
   ],
   "source": [
    "cols_to_use = ['TICKER', 'OPEN', 'HIGH', 'LOW', 'CLOSE']\n",
    "df = df[cols_to_use]\n",
    "df.head()"
   ]
  },
  {
   "cell_type": "code",
   "execution_count": 38,
   "metadata": {},
   "outputs": [
    {
     "name": "stdout",
     "output_type": "stream",
     "text": [
      "min timestamp 2014-06-23T00:00:00.000000000\n",
      "max timestamp 2018-06-04T00:00:00.000000000\n"
     ]
    }
   ],
   "source": [
    "print('min timestamp', df.index.values.min())\n",
    "print('max timestamp', df.index.values.max())"
   ]
  },
  {
   "cell_type": "markdown",
   "metadata": {},
   "source": [
    "Plot closing price"
   ]
  },
  {
   "cell_type": "code",
   "execution_count": 47,
   "metadata": {},
   "outputs": [
    {
     "data": {
      "image/png": "[encoded data removed]",
      "text/plain": [
       "<Figure size 720x360 with 1 Axes>"
      ]
     },
     "metadata": {
      "needs_background": "light"
     },
     "output_type": "display_data"
    }
   ],
   "source": [
    "plt.figure(figsize = (10,5))\n",
    "plt.plot(df['CLOSE'])\n",
    "#df['CLOSE'].plot()\n",
    "plt.title('Closing price over time for GF fund')\n",
    "plt.xlabel('Trading date')\n",
    "plt.ylabel('Closing price')\n",
    "plt.show()"
   ]
  },
  {
   "cell_type": "code",
   "execution_count": 46,
   "metadata": {},
   "outputs": [
    {
     "data": {
      "text/plain": [
       "<matplotlib.axes._subplots.AxesSubplot at 0x102ce89b0>"
      ]
     },
     "execution_count": 46,
     "metadata": {},
     "output_type": "execute_result"
    },
    {
     "data": {
      "image/png": "[encoded data removed]",
      "text/plain": [
       "<Figure size 432x288 with 1 Axes>"
      ]
     },
     "metadata": {
      "needs_background": "light"
     },
     "output_type": "display_data"
    }
   ],
   "source": [
    "df.CLOSE.plot()"
   ]
  },
  {
   "cell_type": "code",
   "execution_count": null,
   "metadata": {},
   "outputs": [],
   "source": []
  }
 ],
 "metadata": {
  "kernelspec": {
   "display_name": "Python 3",
   "language": "python",
   "name": "python3"
  },
  "language_info": {
   "codemirror_mode": {
    "name": "ipython",
    "version": 3
   },
   "file_extension": ".py",
   "mimetype": "text/x-python",
   "name": "python",
   "nbconvert_exporter": "python",
   "pygments_lexer": "ipython3",
   "version": "3.7.3"
  }
 },
 "nbformat": 4,
 "nbformat_minor": 2
}
