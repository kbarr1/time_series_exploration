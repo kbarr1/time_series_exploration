{
 "cells": [
  {
   "cell_type": "code",
   "execution_count": 5,
   "metadata": {},
   "outputs": [],
   "source": [
    "import pandas as pd\n",
    "import numpy as np"
   ]
  },
  {
   "cell_type": "code",
   "execution_count": 8,
   "metadata": {},
   "outputs": [],
   "source": [
    "df = pd.read_csv('input/ambient_temperature_system_failure.csv')"
   ]
  },
  {
   "cell_type": "code",
   "execution_count": 9,
   "metadata": {},
   "outputs": [
    {
     "data": {
      "text/html": [
       "<div>\n",
       "<style scoped>\n",
       "    .dataframe tbody tr th:only-of-type {\n",
       "        vertical-align: middle;\n",
       "    }\n",
       "\n",
       "    .dataframe tbody tr th {\n",
       "        vertical-align: top;\n",
       "    }\n",
       "\n",
       "    .dataframe thead th {\n",
       "        text-align: right;\n",
       "    }\n",
       "</style>\n",
       "<table border=\"1\" class=\"dataframe\">\n",
       "  <thead>\n",
       "    <tr style=\"text-align: right;\">\n",
       "      <th></th>\n",
       "      <th>value</th>\n",
       "    </tr>\n",
       "  </thead>\n",
       "  <tbody>\n",
       "    <tr>\n",
       "      <th>count</th>\n",
       "      <td>7267.000000</td>\n",
       "    </tr>\n",
       "    <tr>\n",
       "      <th>mean</th>\n",
       "      <td>71.242433</td>\n",
       "    </tr>\n",
       "    <tr>\n",
       "      <th>std</th>\n",
       "      <td>4.247509</td>\n",
       "    </tr>\n",
       "    <tr>\n",
       "      <th>min</th>\n",
       "      <td>57.458406</td>\n",
       "    </tr>\n",
       "    <tr>\n",
       "      <th>25%</th>\n",
       "      <td>68.369411</td>\n",
       "    </tr>\n",
       "    <tr>\n",
       "      <th>50%</th>\n",
       "      <td>71.858493</td>\n",
       "    </tr>\n",
       "    <tr>\n",
       "      <th>75%</th>\n",
       "      <td>74.430958</td>\n",
       "    </tr>\n",
       "    <tr>\n",
       "      <th>max</th>\n",
       "      <td>86.223213</td>\n",
       "    </tr>\n",
       "  </tbody>\n",
       "</table>\n",
       "</div>"
      ],
      "text/plain": [
       "             value\n",
       "count  7267.000000\n",
       "mean     71.242433\n",
       "std       4.247509\n",
       "min      57.458406\n",
       "25%      68.369411\n",
       "50%      71.858493\n",
       "75%      74.430958\n",
       "max      86.223213"
      ]
     },
     "execution_count": 9,
     "metadata": {},
     "output_type": "execute_result"
    }
   ],
   "source": [
    "df.describe()\n"
   ]
  },
  {
   "cell_type": "code",
   "execution_count": 24,
   "metadata": {},
   "outputs": [
    {
     "data": {
      "text/html": [
       "<div>\n",
       "<style scoped>\n",
       "    .dataframe tbody tr th:only-of-type {\n",
       "        vertical-align: middle;\n",
       "    }\n",
       "\n",
       "    .dataframe tbody tr th {\n",
       "        vertical-align: top;\n",
       "    }\n",
       "\n",
       "    .dataframe thead th {\n",
       "        text-align: right;\n",
       "    }\n",
       "</style>\n",
       "<table border=\"1\" class=\"dataframe\">\n",
       "  <thead>\n",
       "    <tr style=\"text-align: right;\">\n",
       "      <th></th>\n",
       "      <th>value</th>\n",
       "    </tr>\n",
       "    <tr>\n",
       "      <th>timestamp</th>\n",
       "      <th></th>\n",
       "    </tr>\n",
       "  </thead>\n",
       "  <tbody>\n",
       "    <tr>\n",
       "      <th>2013-07-04 00:00:00</th>\n",
       "      <td>21.044908</td>\n",
       "    </tr>\n",
       "    <tr>\n",
       "      <th>2013-07-04 01:00:00</th>\n",
       "      <td>21.789015</td>\n",
       "    </tr>\n",
       "    <tr>\n",
       "      <th>2013-07-04 02:00:00</th>\n",
       "      <td>21.598781</td>\n",
       "    </tr>\n",
       "    <tr>\n",
       "      <th>2013-07-04 03:00:00</th>\n",
       "      <td>20.533000</td>\n",
       "    </tr>\n",
       "    <tr>\n",
       "      <th>2013-07-04 04:00:00</th>\n",
       "      <td>20.713084</td>\n",
       "    </tr>\n",
       "    <tr>\n",
       "      <th>2013-07-04 05:00:00</th>\n",
       "      <td>21.144981</td>\n",
       "    </tr>\n",
       "    <tr>\n",
       "      <th>2013-07-04 06:00:00</th>\n",
       "      <td>20.710980</td>\n",
       "    </tr>\n",
       "    <tr>\n",
       "      <th>2013-07-04 07:00:00</th>\n",
       "      <td>20.760894</td>\n",
       "    </tr>\n",
       "    <tr>\n",
       "      <th>2013-07-04 08:00:00</th>\n",
       "      <td>20.648174</td>\n",
       "    </tr>\n",
       "    <tr>\n",
       "      <th>2013-07-04 09:00:00</th>\n",
       "      <td>20.547824</td>\n",
       "    </tr>\n",
       "    <tr>\n",
       "      <th>2013-07-04 10:00:00</th>\n",
       "      <td>21.091701</td>\n",
       "    </tr>\n",
       "    <tr>\n",
       "      <th>2013-07-04 11:00:00</th>\n",
       "      <td>21.420108</td>\n",
       "    </tr>\n",
       "    <tr>\n",
       "      <th>2013-07-04 12:00:00</th>\n",
       "      <td>21.281947</td>\n",
       "    </tr>\n",
       "    <tr>\n",
       "      <th>2013-07-04 13:00:00</th>\n",
       "      <td>21.247918</td>\n",
       "    </tr>\n",
       "    <tr>\n",
       "      <th>2013-07-04 14:00:00</th>\n",
       "      <td>21.030505</td>\n",
       "    </tr>\n",
       "    <tr>\n",
       "      <th>2013-07-04 15:00:00</th>\n",
       "      <td>22.024051</td>\n",
       "    </tr>\n",
       "    <tr>\n",
       "      <th>2013-07-04 16:00:00</th>\n",
       "      <td>21.803144</td>\n",
       "    </tr>\n",
       "    <tr>\n",
       "      <th>2013-07-04 17:00:00</th>\n",
       "      <td>21.525055</td>\n",
       "    </tr>\n",
       "    <tr>\n",
       "      <th>2013-07-04 18:00:00</th>\n",
       "      <td>21.874055</td>\n",
       "    </tr>\n",
       "    <tr>\n",
       "      <th>2013-07-04 19:00:00</th>\n",
       "      <td>22.108750</td>\n",
       "    </tr>\n",
       "    <tr>\n",
       "      <th>2013-07-04 20:00:00</th>\n",
       "      <td>22.273114</td>\n",
       "    </tr>\n",
       "    <tr>\n",
       "      <th>2013-07-04 21:00:00</th>\n",
       "      <td>21.973931</td>\n",
       "    </tr>\n",
       "    <tr>\n",
       "      <th>2013-07-04 22:00:00</th>\n",
       "      <td>22.326497</td>\n",
       "    </tr>\n",
       "    <tr>\n",
       "      <th>2013-07-04 23:00:00</th>\n",
       "      <td>21.472199</td>\n",
       "    </tr>\n",
       "    <tr>\n",
       "      <th>2013-07-05 00:00:00</th>\n",
       "      <td>21.857079</td>\n",
       "    </tr>\n",
       "    <tr>\n",
       "      <th>2013-07-05 01:00:00</th>\n",
       "      <td>21.992627</td>\n",
       "    </tr>\n",
       "    <tr>\n",
       "      <th>2013-07-05 02:00:00</th>\n",
       "      <td>21.653890</td>\n",
       "    </tr>\n",
       "    <tr>\n",
       "      <th>2013-07-05 03:00:00</th>\n",
       "      <td>21.246601</td>\n",
       "    </tr>\n",
       "    <tr>\n",
       "      <th>2013-07-05 04:00:00</th>\n",
       "      <td>21.351570</td>\n",
       "    </tr>\n",
       "    <tr>\n",
       "      <th>2013-07-05 05:00:00</th>\n",
       "      <td>20.971646</td>\n",
       "    </tr>\n",
       "  </tbody>\n",
       "</table>\n",
       "</div>"
      ],
      "text/plain": [
       "                         value\n",
       "timestamp                     \n",
       "2013-07-04 00:00:00  21.044908\n",
       "2013-07-04 01:00:00  21.789015\n",
       "2013-07-04 02:00:00  21.598781\n",
       "2013-07-04 03:00:00  20.533000\n",
       "2013-07-04 04:00:00  20.713084\n",
       "2013-07-04 05:00:00  21.144981\n",
       "2013-07-04 06:00:00  20.710980\n",
       "2013-07-04 07:00:00  20.760894\n",
       "2013-07-04 08:00:00  20.648174\n",
       "2013-07-04 09:00:00  20.547824\n",
       "2013-07-04 10:00:00  21.091701\n",
       "2013-07-04 11:00:00  21.420108\n",
       "2013-07-04 12:00:00  21.281947\n",
       "2013-07-04 13:00:00  21.247918\n",
       "2013-07-04 14:00:00  21.030505\n",
       "2013-07-04 15:00:00  22.024051\n",
       "2013-07-04 16:00:00  21.803144\n",
       "2013-07-04 17:00:00  21.525055\n",
       "2013-07-04 18:00:00  21.874055\n",
       "2013-07-04 19:00:00  22.108750\n",
       "2013-07-04 20:00:00  22.273114\n",
       "2013-07-04 21:00:00  21.973931\n",
       "2013-07-04 22:00:00  22.326497\n",
       "2013-07-04 23:00:00  21.472199\n",
       "2013-07-05 00:00:00  21.857079\n",
       "2013-07-05 01:00:00  21.992627\n",
       "2013-07-05 02:00:00  21.653890\n",
       "2013-07-05 03:00:00  21.246601\n",
       "2013-07-05 04:00:00  21.351570\n",
       "2013-07-05 05:00:00  20.971646"
      ]
     },
     "execution_count": 24,
     "metadata": {},
     "output_type": "execute_result"
    }
   ],
   "source": [
    "df.head(30)"
   ]
  },
  {
   "cell_type": "code",
   "execution_count": 11,
   "metadata": {},
   "outputs": [
    {
     "name": "stdout",
     "output_type": "stream",
     "text": [
      "2013-07-04 00:00:00\n",
      "2014-05-28 15:00:00\n"
     ]
    }
   ],
   "source": [
    "print(df['timestamp'].min())\n",
    "print(df['timestamp'].max())"
   ]
  },
  {
   "cell_type": "code",
   "execution_count": 12,
   "metadata": {},
   "outputs": [
    {
     "data": {
      "text/plain": [
       "timestamp     object\n",
       "value        float64\n",
       "dtype: object"
      ]
     },
     "execution_count": 12,
     "metadata": {},
     "output_type": "execute_result"
    }
   ],
   "source": [
    "df.dtypes"
   ]
  },
  {
   "cell_type": "code",
   "execution_count": 16,
   "metadata": {},
   "outputs": [],
   "source": [
    "df['timestamp'] = pd.to_datetime(df['timestamp']) #object to timestamp\n",
    "df['value'] = (df['value'] - 32)* 5/9 #celsius instead of farenheight"
   ]
  },
  {
   "cell_type": "code",
   "execution_count": 21,
   "metadata": {},
   "outputs": [],
   "source": [
    "df = df.set_index('timestamp')"
   ]
  },
  {
   "cell_type": "code",
   "execution_count": 26,
   "metadata": {},
   "outputs": [
    {
     "data": {
      "text/plain": [
       "<matplotlib.axes._subplots.AxesSubplot at 0x1212dcf28>"
      ]
     },
     "execution_count": 26,
     "metadata": {},
     "output_type": "execute_result"
    },
    {
     "data": {
      "image/png": "[encoded data removed]",
      "text/plain": [
       "<Figure size 432x288 with 1 Axes>"
      ]
     },
     "metadata": {
      "needs_background": "light"
     },
     "output_type": "display_data"
    }
   ],
   "source": [
    "df['value'].asfreq('D').plot()"
   ]
  },
  {
   "cell_type": "code",
   "execution_count": null,
   "metadata": {},
   "outputs": [],
   "source": []
  }
 ],
 "metadata": {
  "kernelspec": {
   "display_name": "Python 3",
   "language": "python",
   "name": "python3"
  },
  "language_info": {
   "codemirror_mode": {
    "name": "ipython",
    "version": 3
   },
   "file_extension": ".py",
   "mimetype": "text/x-python",
   "name": "python",
   "nbconvert_exporter": "python",
   "pygments_lexer": "ipython3",
   "version": "3.7.3"
  }
 },
 "nbformat": 4,
 "nbformat_minor": 2
}
